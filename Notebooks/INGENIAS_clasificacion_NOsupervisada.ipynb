{
 "cells": [
  {
   "cell_type": "markdown",
   "id": "a6a38519",
   "metadata": {},
   "source": [
    "# Clasificación no supervisada\n",
    "\n",
    "María Candela Herrera"
   ]
  },
  {
   "cell_type": "code",
   "execution_count": 1,
   "id": "ebb8cc8e",
   "metadata": {},
   "outputs": [],
   "source": [
    "import numpy as np\n",
    "import matplotlib.pyplot as plt\n",
    "from scipy import stats"
   ]
  },
  {
   "cell_type": "markdown",
   "id": "7f4729de",
   "metadata": {},
   "source": [
    "# Lectura del dato"
   ]
  },
  {
   "cell_type": "code",
   "execution_count": 2,
   "id": "18f87408",
   "metadata": {},
   "outputs": [],
   "source": [
    "A  = np.load(\"./data/A_train.npy\")\n",
    "B  = np.load(\"./data/B_train.npy\")\n",
    "\n",
    "A_test = np.load(\"./data/A_val.npy\")\n",
    "B_test = np.load(\"./data/B_val.npy\")\n",
    "\n",
    "# Training dataset\n",
    "x_train = np.concatenate((A,B),axis=0)  # classes are balanced\n",
    "y_train = np.repeat(np.array([0,1]),300)\n",
    "\n",
    "# Test dataset\n",
    "x_test  = np.concatenate((A_test,B_test),axis=0)\n",
    "y_test  = np.repeat(np.array([0,1]),130)"
   ]
  },
  {
   "cell_type": "code",
   "execution_count": 3,
   "id": "6e9a1295",
   "metadata": {},
   "outputs": [],
   "source": [
    "x_train = x_train.reshape(600,28*28)\n",
    "x_test  = x_test.reshape(260,28*28)"
   ]
  },
  {
   "cell_type": "markdown",
   "id": "34d3bbea",
   "metadata": {},
   "source": [
    "# Entrenamiento "
   ]
  },
  {
   "cell_type": "code",
   "execution_count": 4,
   "id": "128ba148",
   "metadata": {},
   "outputs": [],
   "source": [
    "from sklearn.cluster import KMeans\n",
    "MODELO = KMeans(2,random_state=123);  # 2 clusters\n",
    "MODELO.fit(x_train);"
   ]
  },
  {
   "cell_type": "markdown",
   "id": "56e153eb",
   "metadata": {},
   "source": [
    "# Precisión del clasificador entrenado"
   ]
  },
  {
   "cell_type": "code",
   "execution_count": 5,
   "id": "069863a8",
   "metadata": {},
   "outputs": [
    {
     "name": "stdout",
     "output_type": "stream",
     "text": [
      "En los datos de entrenamiento:\n",
      "Accuracy [%] =  95.5\n"
     ]
    }
   ],
   "source": [
    "y_pred = MODELO.predict(x_train)\n",
    "matched = y_pred == y_train\n",
    "\n",
    "print(\"En los datos de entrenamiento:\")\n",
    "print(\"Accuracy [%] = \",100*matched.mean())"
   ]
  },
  {
   "cell_type": "code",
   "execution_count": 6,
   "id": "8bf51694",
   "metadata": {},
   "outputs": [
    {
     "name": "stdout",
     "output_type": "stream",
     "text": [
      "En los datos de validación:\n",
      "Accuracy [%] =  92.6923076923077\n"
     ]
    }
   ],
   "source": [
    "y_pred = MODELO.predict(x_test)\n",
    "\n",
    "matched = y_pred == y_test\n",
    "\n",
    "print(\"En los datos de validación:\")\n",
    "print(\"Accuracy [%] = \",100*matched.mean())"
   ]
  },
  {
   "cell_type": "markdown",
   "id": "2b7247a8",
   "metadata": {},
   "source": [
    "**Conclusión**. El aprendizaje no supervisado por medio de K-MEANS arroja una precisión del 92% en los datos de validación."
   ]
  },
  {
   "cell_type": "code",
   "execution_count": 7,
   "id": "9f65f6e4",
   "metadata": {},
   "outputs": [],
   "source": [
    "#y_pred"
   ]
  },
  {
   "cell_type": "code",
   "execution_count": 8,
   "id": "72927de5",
   "metadata": {},
   "outputs": [],
   "source": [
    "#y_test"
   ]
  },
  {
   "cell_type": "code",
   "execution_count": null,
   "id": "76059083",
   "metadata": {},
   "outputs": [],
   "source": []
  }
 ],
 "metadata": {
  "kernelspec": {
   "display_name": "Python 3",
   "language": "python",
   "name": "python3"
  },
  "language_info": {
   "codemirror_mode": {
    "name": "ipython",
    "version": 3
   },
   "file_extension": ".py",
   "mimetype": "text/x-python",
   "name": "python",
   "nbconvert_exporter": "python",
   "pygments_lexer": "ipython3",
   "version": "3.9.5"
  }
 },
 "nbformat": 4,
 "nbformat_minor": 5
}
